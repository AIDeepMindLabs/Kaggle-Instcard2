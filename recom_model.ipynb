{
 "cells": [
  {
   "cell_type": "code",
   "execution_count": 1,
   "metadata": {
    "collapsed": true
   },
   "outputs": [],
   "source": [
    "import numpy as np\n",
    "import pandas as pd\n",
    "import matplotlib.pyplot as plt\n",
    "%matplotlib inline"
   ]
  },
  {
   "cell_type": "code",
   "execution_count": 2,
   "metadata": {
    "collapsed": true
   },
   "outputs": [],
   "source": [
    "DATA_PATH = \"Data/example-file.csv\""
   ]
  },
  {
   "cell_type": "code",
   "execution_count": 3,
   "metadata": {},
   "outputs": [
    {
     "data": {
      "text/html": [
       "<div>\n",
       "<style>\n",
       "    .dataframe thead tr:only-child th {\n",
       "        text-align: right;\n",
       "    }\n",
       "\n",
       "    .dataframe thead th {\n",
       "        text-align: left;\n",
       "    }\n",
       "\n",
       "    .dataframe tbody tr th {\n",
       "        vertical-align: top;\n",
       "    }\n",
       "</style>\n",
       "<table border=\"1\" class=\"dataframe\">\n",
       "  <thead>\n",
       "    <tr style=\"text-align: right;\">\n",
       "      <th></th>\n",
       "      <th>COLLECTOR_KEY</th>\n",
       "      <th>LAST_TXN_DTE</th>\n",
       "      <th>FGC</th>\n",
       "      <th>target</th>\n",
       "      <th>trans</th>\n",
       "      <th>recency</th>\n",
       "      <th>pc</th>\n",
       "      <th>pci</th>\n",
       "      <th>si</th>\n",
       "      <th>flag_AIR</th>\n",
       "      <th>...</th>\n",
       "      <th>flag_ls_se</th>\n",
       "      <th>flag_f</th>\n",
       "      <th>flag_m</th>\n",
       "      <th>age</th>\n",
       "      <th>tenure</th>\n",
       "      <th>flag_on</th>\n",
       "      <th>dist</th>\n",
       "      <th>SHOPPED_L2W</th>\n",
       "      <th>LOADED_L2W</th>\n",
       "      <th>RECOMMENDED_L2W</th>\n",
       "    </tr>\n",
       "  </thead>\n",
       "  <tbody>\n",
       "    <tr>\n",
       "      <th>130732</th>\n",
       "      <td>1294377</td>\n",
       "      <td>20160630</td>\n",
       "      <td>21084</td>\n",
       "      <td>0</td>\n",
       "      <td>0</td>\n",
       "      <td>NaN</td>\n",
       "      <td>185.0</td>\n",
       "      <td>1.972973</td>\n",
       "      <td>1.255373</td>\n",
       "      <td>0</td>\n",
       "      <td>...</td>\n",
       "      <td>0</td>\n",
       "      <td>1</td>\n",
       "      <td>0</td>\n",
       "      <td>61.0</td>\n",
       "      <td>26</td>\n",
       "      <td>0</td>\n",
       "      <td>0.575</td>\n",
       "      <td>0</td>\n",
       "      <td>0</td>\n",
       "      <td>0</td>\n",
       "    </tr>\n",
       "    <tr>\n",
       "      <th>40189</th>\n",
       "      <td>364654</td>\n",
       "      <td>20160630</td>\n",
       "      <td>111776</td>\n",
       "      <td>0</td>\n",
       "      <td>0</td>\n",
       "      <td>NaN</td>\n",
       "      <td>34.0</td>\n",
       "      <td>10.735294</td>\n",
       "      <td>1.200583</td>\n",
       "      <td>0</td>\n",
       "      <td>...</td>\n",
       "      <td>0</td>\n",
       "      <td>1</td>\n",
       "      <td>0</td>\n",
       "      <td>43.0</td>\n",
       "      <td>82</td>\n",
       "      <td>1</td>\n",
       "      <td>99.294</td>\n",
       "      <td>0</td>\n",
       "      <td>0</td>\n",
       "      <td>0</td>\n",
       "    </tr>\n",
       "    <tr>\n",
       "      <th>40190</th>\n",
       "      <td>364654</td>\n",
       "      <td>20160630</td>\n",
       "      <td>111778</td>\n",
       "      <td>0</td>\n",
       "      <td>0</td>\n",
       "      <td>NaN</td>\n",
       "      <td>63.0</td>\n",
       "      <td>5.793651</td>\n",
       "      <td>0.678551</td>\n",
       "      <td>0</td>\n",
       "      <td>...</td>\n",
       "      <td>0</td>\n",
       "      <td>1</td>\n",
       "      <td>0</td>\n",
       "      <td>43.0</td>\n",
       "      <td>82</td>\n",
       "      <td>1</td>\n",
       "      <td>99.294</td>\n",
       "      <td>0</td>\n",
       "      <td>0</td>\n",
       "      <td>0</td>\n",
       "    </tr>\n",
       "    <tr>\n",
       "      <th>172486</th>\n",
       "      <td>1660464</td>\n",
       "      <td>20160630</td>\n",
       "      <td>9604</td>\n",
       "      <td>0</td>\n",
       "      <td>0</td>\n",
       "      <td>NaN</td>\n",
       "      <td>90.0</td>\n",
       "      <td>4.055556</td>\n",
       "      <td>0.926189</td>\n",
       "      <td>0</td>\n",
       "      <td>...</td>\n",
       "      <td>0</td>\n",
       "      <td>1</td>\n",
       "      <td>0</td>\n",
       "      <td>55.0</td>\n",
       "      <td>85</td>\n",
       "      <td>1</td>\n",
       "      <td>163.274</td>\n",
       "      <td>0</td>\n",
       "      <td>0</td>\n",
       "      <td>0</td>\n",
       "    </tr>\n",
       "    <tr>\n",
       "      <th>36471</th>\n",
       "      <td>338037</td>\n",
       "      <td>20160630</td>\n",
       "      <td>71292</td>\n",
       "      <td>0</td>\n",
       "      <td>0</td>\n",
       "      <td>NaN</td>\n",
       "      <td>80.0</td>\n",
       "      <td>4.562500</td>\n",
       "      <td>1.218462</td>\n",
       "      <td>0</td>\n",
       "      <td>...</td>\n",
       "      <td>0</td>\n",
       "      <td>1</td>\n",
       "      <td>0</td>\n",
       "      <td>42.0</td>\n",
       "      <td>32</td>\n",
       "      <td>0</td>\n",
       "      <td>2.189</td>\n",
       "      <td>0</td>\n",
       "      <td>0</td>\n",
       "      <td>0</td>\n",
       "    </tr>\n",
       "  </tbody>\n",
       "</table>\n",
       "<p>5 rows × 62 columns</p>\n",
       "</div>"
      ],
      "text/plain": [
       "        COLLECTOR_KEY  LAST_TXN_DTE     FGC  target  trans  recency     pc  \\\n",
       "130732        1294377      20160630   21084       0      0      NaN  185.0   \n",
       "40189          364654      20160630  111776       0      0      NaN   34.0   \n",
       "40190          364654      20160630  111778       0      0      NaN   63.0   \n",
       "172486        1660464      20160630    9604       0      0      NaN   90.0   \n",
       "36471          338037      20160630   71292       0      0      NaN   80.0   \n",
       "\n",
       "              pci        si  flag_AIR       ...         flag_ls_se  flag_f  \\\n",
       "130732   1.972973  1.255373         0       ...                  0       1   \n",
       "40189   10.735294  1.200583         0       ...                  0       1   \n",
       "40190    5.793651  0.678551         0       ...                  0       1   \n",
       "172486   4.055556  0.926189         0       ...                  0       1   \n",
       "36471    4.562500  1.218462         0       ...                  0       1   \n",
       "\n",
       "        flag_m   age  tenure  flag_on     dist  SHOPPED_L2W  LOADED_L2W  \\\n",
       "130732       0  61.0      26        0    0.575            0           0   \n",
       "40189        0  43.0      82        1   99.294            0           0   \n",
       "40190        0  43.0      82        1   99.294            0           0   \n",
       "172486       0  55.0      85        1  163.274            0           0   \n",
       "36471        0  42.0      32        0    2.189            0           0   \n",
       "\n",
       "        RECOMMENDED_L2W  \n",
       "130732                0  \n",
       "40189                 0  \n",
       "40190                 0  \n",
       "172486                0  \n",
       "36471                 0  \n",
       "\n",
       "[5 rows x 62 columns]"
      ]
     },
     "execution_count": 3,
     "metadata": {},
     "output_type": "execute_result"
    }
   ],
   "source": [
    "transactions_raw = pd.read_csv(DATA_PATH)\n",
    "transactions_raw = transactions_raw.sort_values(\"LAST_TXN_DTE\")\n",
    "transactions_raw.head()"
   ]
  },
  {
   "cell_type": "code",
   "execution_count": 4,
   "metadata": {},
   "outputs": [
    {
     "name": "stdout",
     "output_type": "stream",
     "text": [
      "Number of users:  693\n",
      "\n",
      "Order distribution: \n"
     ]
    },
    {
     "data": {
      "image/png": "[encoded data removed]",
      "text/plain": [
       "<matplotlib.figure.Figure at 0x7fca04363240>"
      ]
     },
     "metadata": {},
     "output_type": "display_data"
    },
    {
     "name": "stdout",
     "output_type": "stream",
     "text": [
      "[402]\n"
     ]
    }
   ],
   "source": [
    "print(\"Number of users: \", len(transactions_raw[\"COLLECTOR_KEY\"].unique()))\n",
    "print()\n",
    "\n",
    "print(\"Order distribution: \")\n",
    "transactions_raw.groupby(by=\"COLLECTOR_KEY\")[\"FGC\"].count().plot()\n",
    "plt.show()\n",
    "print(transactions_raw.groupby(by=\"COLLECTOR_KEY\")[\"FGC\"].count().unique())"
   ]
  },
  {
   "cell_type": "markdown",
   "metadata": {},
   "source": [
    "_Ok, so all users can be assumed to have exact same number of orders i.e. 402_"
   ]
  },
  {
   "cell_type": "markdown",
   "metadata": {},
   "source": [
    "### Format categorical data"
   ]
  },
  {
   "cell_type": "code",
   "execution_count": 5,
   "metadata": {
    "collapsed": true
   },
   "outputs": [],
   "source": [
    "transactions_fgc_encoded = transactions_raw.copy()\n",
    "#del transactions_raw\n",
    "\n",
    "dummies = pd.get_dummies(transactions_raw[\"FGC\"])\n",
    "\n",
    "# Keep hold of new categories real values\n",
    "dummyMapper = list(dummies.columns)\n",
    "\n",
    "transactions_fgc_encoded = pd.concat([transactions_fgc_encoded, dummies], axis=1)\n",
    "transactions_fgc_encoded = (transactions_fgc_encoded - transactions_fgc_encoded.min())/transactions_fgc_encoded.max()\n",
    "\n",
    "\n",
    "del dummies\n",
    "del transactions_raw"
   ]
  },
  {
   "cell_type": "markdown",
   "metadata": {},
   "source": [
    "### Sort data and create a sequence based matrix"
   ]
  },
  {
   "cell_type": "code",
   "execution_count": 6,
   "metadata": {},
   "outputs": [],
   "source": [
    "transactions_x = []\n",
    "transactions_y = []\n",
    "\n",
    "lim = 100\n",
    "\n",
    "for name, group in transactions_fgc_encoded.groupby(by=\"COLLECTOR_KEY\"):\n",
    "    for i in range(0, len(group), lim):\n",
    "        try:\n",
    "            seq = group.values[i:i+lim-1,:]\n",
    "            val = group.values[i+lim, -len(dummyMapper):]\n",
    "            transactions_x.append(seq)\n",
    "            transactions_y.append(val)\n",
    "        except IndexError:\n",
    "            break\n",
    "del transactions_fgc_encoded"
   ]
  },
  {
   "cell_type": "code",
   "execution_count": 7,
   "metadata": {},
   "outputs": [],
   "source": [
    "transactions_x = np.rollaxis(np.dstack(transactions_x), -1)\n",
    "transactions_y = np.rollaxis(np.dstack(transactions_y), -1)"
   ]
  },
  {
   "cell_type": "code",
   "execution_count": 8,
   "metadata": {},
   "outputs": [],
   "source": [
    "transactions_y = transactions_y.reshape(transactions_y.shape[0], transactions_y.shape[2])"
   ]
  },
  {
   "cell_type": "code",
   "execution_count": 9,
   "metadata": {},
   "outputs": [],
   "source": [
    "transactions_y.shape\n",
    "np.save(\"transactions_x\", transactions_x)\n",
    "np.save(\"transactions_y\", transactions_y)"
   ]
  },
  {
   "cell_type": "code",
   "execution_count": 17,
   "metadata": {},
   "outputs": [
    {
     "name": "stderr",
     "output_type": "stream",
     "text": [
      "Using TensorFlow backend.\n"
     ]
    }
   ],
   "source": [
    "from keras.models import Sequential\n",
    "from keras.layers import Dense, GRU, Dropout, Reshape"
   ]
  },
  {
   "cell_type": "code",
   "execution_count": 18,
   "metadata": {},
   "outputs": [],
   "source": [
    "model = Sequential()\n",
    "model.add(GRU(1024, input_shape=transactions_x.shape[1:]))\n",
    "model.add(Reshape(target_shape=(32, 32)))\n",
    "model.add(GRU(512, input_shape=transactions_x.shape[1:]))\n",
    "model.add(Dropout(0.5))\n",
    "#model.add(Dense(512))\n",
    "model.add(Dense(len(dummyMapper), activation='sigmoid'))"
   ]
  },
  {
   "cell_type": "code",
   "execution_count": 19,
   "metadata": {
    "collapsed": true
   },
   "outputs": [],
   "source": [
    "model.compile(optimizer='adam',\n",
    "              loss='categorical_crossentropy',\n",
    "              metrics=['accuracy'])"
   ]
  },
  {
   "cell_type": "code",
   "execution_count": null,
   "metadata": {},
   "outputs": [
    {
     "name": "stdout",
     "output_type": "stream",
     "text": [
      "Epoch 1/10\n",
      " 900/2772 [========>.....................] - ETA: 174s - loss: nan - acc: 0.0022"
     ]
    }
   ],
   "source": [
    "model.fit(transactions_x, transactions_y, batch_size=50)"
   ]
  },
  {
   "cell_type": "code",
   "execution_count": null,
   "metadata": {
    "collapsed": true
   },
   "outputs": [],
   "source": []
  }
 ],
 "metadata": {
  "kernelspec": {
   "display_name": "Python 3",
   "language": "python",
   "name": "python3"
  },
  "language_info": {
   "codemirror_mode": {
    "name": "ipython",
    "version": 3
   },
   "file_extension": ".py",
   "mimetype": "text/x-python",
   "name": "python",
   "nbconvert_exporter": "python",
   "pygments_lexer": "ipython3",
   "version": "3.6.2"
  }
 },
 "nbformat": 4,
 "nbformat_minor": 2
}
